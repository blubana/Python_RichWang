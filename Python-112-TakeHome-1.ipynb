{
 "cells": [
  {
   "attachments": {},
   "cell_type": "markdown",
   "id": "b3df167b",
   "metadata": {},
   "source": [
    "**Python - TakeHome 1**\n",
    "- 請在題目下方建立一個新的<font color='red'>Cell，來進行作答。\n",
    "- <font color=red>請勿使用上課未教過的模組或函式庫來作答，否則該題不予計分。</font>\n",
    "- 最後請將此 <font color='red'>ipynb</font> 檔，另存為 \"<font color='red'>你的學號-姓名.ipynb</font>\"，上傳至i學園。\n",
    "- 作業繳交截止日期: <font color='red'>112/10/26 23:59</font>。"
   ]
  },
  {
   "cell_type": "code",
   "execution_count": null,
   "id": "f785429c",
   "metadata": {},
   "outputs": [],
   "source": [
    "'''\n",
    "Problem 1\n",
    "請由鍵盤輸入三個整數，並將此三個數字依\"由小到大\"的順序印出來。\n",
    "例如，輸入 5, 2, 4\n",
    "輸出排序的結果: 2, 4, 5\n",
    "(*注意，此題請單純使用if-elif-else來進行判斷，不可以將變數存串列來進行排序！)\n",
    "'''"
   ]
  },
  {
   "cell_type": "code",
   "execution_count": null,
   "id": "335c80a9",
   "metadata": {},
   "outputs": [],
   "source": [
    "# ask user input 3 Z(整數)\n",
    "num1 = int(input(\"請輸入第一個整數: \"))\n",
    "num2 = int(input(\"請輸入第二個整數: \"))\n",
    "num3 = int(input(\"請輸入第三個整數: \"))\n",
    "\n",
    "# 使用 if-elif-else 判斷數字的大小並印出結果\n",
    "\n",
    "# 第一種情況：num1 is the smallest number\n",
    "if num1 <= num2 and num1 <= num3:   \n",
    "    # 2 situations : num2 < num3 / num3 < num2\n",
    "    if num2 <= num3:    # [num1 < num2 < num3]\n",
    "        print(num1, num2, num3)\n",
    "    else:               # [num1 < num3 < num2]\n",
    "        print(num1, num3, num2)\n",
    "        \n",
    "# 第二種情況：num2 is the smallest number        \n",
    "elif num2 <= num1 and num2 <= num3:\n",
    "    # 2 situations : num1 < num3 / num3 < num1\n",
    "    if num1 <= num3:    # [num2 < num1 < num3]\n",
    "        print(num2, num1, num3)\n",
    "    else:               # [num2 < num3 < num1]\n",
    "        print(num2, num3, num1)\n",
    "        \n",
    "# 非一、二情況：num3 is the smallest number\n",
    "else:\n",
    "    # 2 situations : num1 < num2 / num2 < num1\n",
    "    if num1 <= num2:    # [num3 < num1 < num2]\n",
    "        print(num3, num1, num2)\n",
    "    else:               # [num3 < num2 < num1]\n",
    "        print(num3, num2, num1)"
   ]
  },
  {
   "cell_type": "code",
   "execution_count": null,
   "id": "6f4e14ad",
   "metadata": {},
   "outputs": [],
   "source": [
    "'''\n",
    "Problem 2\n",
    "請建立一個長度為16的串列，同時利用隨機數(random)生成 1~99 的值，依序填入串列的元素中。\n",
    "接著建立兩個串列: odd, even，用來儲存上述串列中的奇數與偶數的值。\n",
    "例如，\n",
    "隨機產生 lst = [1,2,5,4,6,7,9]，\n",
    "則計算判斷後，分別將奇偶數分存於 odd 與 even 串列，\n",
    "odd = [1,5,7,9]\n",
    "even = [2,4,6]\n",
    "(* 串列的元素請使用append來進行附加。)\n",
    "'''"
   ]
  },
  {
   "cell_type": "code",
   "execution_count": null,
   "id": "b4379511",
   "metadata": {},
   "outputs": [],
   "source": [
    "import random\n",
    "\n",
    "lst = []  # 建立一個空串列 lst 來存放隨機數字\n",
    "odd = []  # 建立一個空串列 odd 來存放奇數\n",
    "even = []  # 建立一個空串列 even 來存放偶數\n",
    "\n",
    "for _ in range(16):  # 迴圈執行 16 次，生成 16 個隨機數字\n",
    "    num = random.randint(1, 99)  # 生成 1 到 99 之間的隨機整數\n",
    "    lst.append(num)  # 將隨機數字添加到 lst 串列中\n",
    "\n",
    "    if num % 2 == 0:  # 透過百分號運算符％判斷除數除以被除數後的餘數，判斷數字是否為偶數\n",
    "        even.append(num)  # 如果是偶數，將其添加到 even 串列中\n",
    "    else:\n",
    "        odd.append(num)  # 如果是奇數，將其添加到 odd 串列中\n",
    "\n",
    "print(\"lst:\", lst)  # 輸出 lst 串列的內容\n",
    "print(\"odd:\", odd)  # 輸出 odd 串列的內容\n",
    "print(\"even:\", even)  # 輸出 even 串列的內容"
   ]
  },
  {
   "cell_type": "code",
   "execution_count": null,
   "id": "3069b955",
   "metadata": {
    "scrolled": true
   },
   "outputs": [],
   "source": [
    "'''\n",
    "Problem 3\n",
    "請完成下列九九乘法表的輸出。\n",
    "#------------------------------\n",
    "九九乘法表\n",
    " x| 1  2  3  4  5  6  7  8  9\n",
    "--+--------------------------\n",
    " 1| 1  2  3  4  5  6  7  8  9\n",
    " 2| 2  4  6  8 10 12 14 16 18\n",
    " 3| 3  6  9 12 15 18 21 24 27\n",
    " 4| 4  8 12 16 20 24 28 32 36\n",
    " 5| 5 10 15 20 25 30 35 40 45\n",
    " 6| 6 12 18 24 30 36 42 48 54\n",
    " 7| 7 14 21 28 35 42 49 56 63\n",
    " 8| 8 16 24 32 40 48 56 64 72\n",
    " 9| 9 18 27 36 45 54 63 72 81\n",
    "#------------------------------ \n",
    " (*注意！本題不可以使用暴力法，逐列印出結果！)\n",
    "'''"
   ]
  },
  {
   "cell_type": "code",
   "execution_count": null,
   "id": "d600f94b",
   "metadata": {},
   "outputs": [],
   "source": [
    "print(\"九九乘法表\")  # 標題\n",
    "print(\" x| 1  2  3  4  5  6  7  8  9\")  # 第一行（乘數）\n",
    "print(\"--+--------------------------\")  # 第二行\n",
    "\n",
    "for i in range(1, 10):  # 橫向標題（被乘數）\n",
    "    print(f\"{i}|\", end=\" \")  # 輸出九九乘法表的行數，數字以空格分隔\n",
    "\n",
    "    for j in range(1, 10):  # 表格內容（商）\n",
    "        print(f\"{i * j:2d}\", end=\" \")  # 輸出九九乘法表的每個數字，格式化二位字串、數字以空格分隔\n",
    "\n",
    "    print()  # 換行，輸出下一行的九九乘法表"
   ]
  },
  {
   "cell_type": "code",
   "execution_count": null,
   "id": "bbc075c9",
   "metadata": {},
   "outputs": [],
   "source": [
    "'''\n",
    "Problem 4\n",
    "請使用 for-in 來完成下列結果的輸出。\n",
    "#--------------------------------\n",
    "請輸入一個整數(1~9): 5\n",
    "(1), (2), (3), (4), (5)\n",
    "#--------------------------------\n",
    "'''"
   ]
  },
  {
   "cell_type": "code",
   "execution_count": null,
   "id": "69006caa",
   "metadata": {},
   "outputs": [],
   "source": [
    "num = int(input(\"請輸入一個整數(1~9): \"))  \n",
    "\n",
    "# 執行num次的迴圈\n",
    "for i in range(1, num+1):\n",
    "    print(f\"({i})\", end=\" \")  # 輸出num次數字，由1開始"
   ]
  },
  {
   "cell_type": "code",
   "execution_count": null,
   "id": "b8ab2a72",
   "metadata": {},
   "outputs": [],
   "source": [
    "'''\n",
    "Problem 5\n",
    "請使用 for-in 來完成下列結果的輸出。\n",
    "#--------------------------------\n",
    "請輸入一個整數(1~9): 5\n",
    "1\n",
    "12\n",
    "123\n",
    "1234\n",
    "12345\n",
    "1234\n",
    "123\n",
    "12\n",
    "1\n",
    "#--------------------------------\n",
    "'''"
   ]
  },
  {
   "cell_type": "code",
   "execution_count": null,
   "id": "b907f30a",
   "metadata": {},
   "outputs": [],
   "source": [
    "'''\n",
    "解題思路(num = 5)：\n",
    "1\n",
    "12\n",
    "123\n",
    "1234    \n",
    "12345   上半部分\n",
    "--------------------\n",
    "1234    下半部分\n",
    "123\n",
    "12\n",
    "1\n",
    "'''\n",
    "num = int(input(\"請輸入一個整數(1~9): \"))   # 設定次數\n",
    "\n",
    "# 上半部分\n",
    "for i in range(1, num+1):  # 控制換行，從第一次開始直到地num次\n",
    "    for j in range(1, i+1):  # 根據次數輸出數字\n",
    "        print(j, end=\"\")  # 輸出數字\n",
    "    print()  # 換行\n",
    "\n",
    "# 下半部分\n",
    "for i in range(num-1, 0, -1):  # 控制換行從分隔線開始，倒序\n",
    "                                # 因為最長的那行在上半部分所以從分隔線開始為num-1次，每次加(-1)，直到0\n",
    "    for j in range(1, i+1):  # 根據次數輸出數字\n",
    "        print(j, end=\"\")  # 輸出數字\n",
    "    print()  # 換行"
   ]
  },
  {
   "cell_type": "code",
   "execution_count": null,
   "id": "eb432ed5",
   "metadata": {},
   "outputs": [],
   "source": []
  }
 ],
 "metadata": {
  "kernelspec": {
   "display_name": "Python 3 (ipykernel)",
   "language": "python",
   "name": "python3"
  },
  "language_info": {
   "codemirror_mode": {
    "name": "ipython",
    "version": 3
   },
   "file_extension": ".py",
   "mimetype": "text/x-python",
   "name": "python",
   "nbconvert_exporter": "python",
   "pygments_lexer": "ipython3",
   "version": "3.11.5"
  }
 },
 "nbformat": 4,
 "nbformat_minor": 5
}
